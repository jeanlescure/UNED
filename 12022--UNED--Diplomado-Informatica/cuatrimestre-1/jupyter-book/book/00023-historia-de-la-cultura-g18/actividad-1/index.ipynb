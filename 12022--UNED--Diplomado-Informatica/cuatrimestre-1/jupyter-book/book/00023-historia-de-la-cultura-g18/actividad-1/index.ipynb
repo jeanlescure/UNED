{
 "cells": [
  {
   "cell_type": "markdown",
   "id": "9269dffb-f069-4e64-8f13-d3a9c01d5917",
   "metadata": {},
   "source": [
    "# Actividad 1\n",
    "\n",
    "```{admonition} Instrucciones\n",
    "Lea el Módulo I y II de la unidad didáctica de Historia de la cultura y responda la siguiente pregunta generadora:\n",
    "\n",
    "Con respecto a la revolución Francesa e industrial, explique ampliamente lo siguiente: ¿por qué se consideran como grandes transformaciones del siglo XVIII?\n",
    "```\n",
    "\n",
    "Dentro del marco histórico del siglo XVIII se considera a la revolución Francesa como una causa significativa de la alteración del orden político y social de la época a nivel mundial, ya que, por medio de los preceptos de la llamada \"Ilustración\", se inspira indirectamente a los empresarios de Primer Mundo (la burguesía), al igual que al pueblo servil, a la búsqueda de redistribución de poderes, lejos de los Reyes (el feudo) y en manos de grupos que eventualmente conformarían las instituciones que hoy día conocemos como Estado.\n",
    "\n",
    "Los ideales filosóficos de la Ilustración que focalizaban el ser humano en la razón {cite}`Diaz2012` fueron las semillas que permitieron el avance ideológico, organizacional, y científico que eventualmente germinaron en lo que Michael Hardt y Antonio Negri denominan el paradigma de \"oferta de servicios y manejo de la información\" {cite}`Hardt2000` que caracteriza el sitio histórico en el que nos situamos actualmente.\n",
    "\n",
    "En paralelo, dentro del siglo XVIII, si nos enfocamos en materia de economía a escala global, la revolución industrial viene a ser homóloga a la revolución Francesa en el sentido que dentro de su ámbito causa un cambio radical, siendo en este caso con respecto a la productividad, el transporte, y la comunicación.\n",
    "\n",
    "La mecanización de la producción, facilitada por el uso de carbón como combustible en las máquinas de vapor, y los inicios de la implementación de electricidad como medio de iluminación y comunicación, no sólo extendió el tiempo productivo gracias al reemplazo de mano de obra por la automatización mecánica y gracias a la luz artificial, pero a la vez disminuyó el tiempo de respuesta del Estado y las grandes empresas gracias a las redes ferroviarias y el telégrafo.\n",
    "\n",
    "De igual manera los ecos de la revolución industrial eventualmente cambiaron la historia no sólo a nivel socioeconómico, pero también literalmente cambiaron la manera en que medimos la historia en la actualidad, ya que los mismos procesos que facilitaron el avance tecnológico desmedido, eventualmente culminaron en la creación de bombas atómicas, cuyos rastros químicos causaron variaciones de Carbono 14 a nivel global, y según múltiples estudios remontándose hasta 1971 acerca de la fiabilidad de la técnica de fechado por Carbono: \"la magnitud de esta variación es considerable y afectará la conversión de años calendario en cantidades importantes\" {cite}`Rafter1971`.\n",
    "\n",
    "\n",
    "```{bibliography}\n",
    "```"
   ]
  }
 ],
 "metadata": {
  "kernelspec": {
   "display_name": "Typescript",
   "language": "ts",
   "name": "typescript"
  },
  "language_info": {
   "codemirror_mode": "ts",
   "file_extension": ".ts",
   "mimetype": "text/x-typescript",
   "name": "typescript",
   "nbconvert_exporter": "",
   "pygments_lexer": "ts",
   "version": "1.0"
  }
 },
 "nbformat": 4,
 "nbformat_minor": 5
}
